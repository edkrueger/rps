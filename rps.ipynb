{
 "cells": [
  {
   "cell_type": "code",
   "execution_count": 1,
   "metadata": {},
   "outputs": [],
   "source": [
    "def validate_choice(choice):\n",
    "    if not choice.lower() in {\"r\", \"p\", \"s\"}:\n",
    "        raise ValueError(\"Must be one of R, P or S!\")\n",
    "        \n",
    "def prompt_choice():\n",
    "    \n",
    "    choice = input(\"Choose R/P/S!\")   \n",
    "    validate_choice(choice)\n",
    "    return choice\n",
    "\n",
    "def play():\n",
    "    choice = prompt_choice()\n",
    "    print(f\"You chose... {choice}\")\n",
    "    \n",
    "    "
   ]
  },
  {
   "cell_type": "code",
   "execution_count": null,
   "metadata": {},
   "outputs": [],
   "source": [
    "play()"
   ]
  },
  {
   "cell_type": "code",
   "execution_count": null,
   "metadata": {},
   "outputs": [],
   "source": []
  }
 ],
 "metadata": {
  "kernelspec": {
   "display_name": "Python 3",
   "language": "python",
   "name": "python3"
  },
  "language_info": {
   "codemirror_mode": {
    "name": "ipython",
    "version": 3
   },
   "file_extension": ".py",
   "mimetype": "text/x-python",
   "name": "python",
   "nbconvert_exporter": "python",
   "pygments_lexer": "ipython3",
   "version": "3.7.5"
  }
 },
 "nbformat": 4,
 "nbformat_minor": 4
}
